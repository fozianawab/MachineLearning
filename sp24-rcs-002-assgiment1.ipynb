{
  "nbformat": 4,
  "nbformat_minor": 0,
  "metadata": {
    "colab": {
      "provenance": []
    },
    "kernelspec": {
      "name": "python3",
      "display_name": "Python 3"
    },
    "language_info": {
      "name": "python"
    }
  },
  "cells": [
    {
      "cell_type": "code",
      "execution_count": 1,
      "metadata": {
        "colab": {
          "base_uri": "https://localhost:8080/"
        },
        "id": "0FdRpo2q_usw",
        "outputId": "ecf2982d-f9ea-4f46-9798-4bd4e4bb7c39"
      },
      "outputs": [
        {
          "output_type": "stream",
          "name": "stdout",
          "text": [
            "[27]\n",
            "[27, 125]\n",
            "[27, 125, 343]\n",
            "[27, 125, 343, 512]\n",
            "[27, 125, 343, 512, 1728]\n"
          ]
        }
      ],
      "source": [
        "nums = [3,5,7,8,12]\n",
        "cubes=[]\n",
        "for num in nums:\n",
        "    cubes.append(num ** 3)\n",
        "    print(cubes)"
      ]
    },
    {
      "cell_type": "code",
      "source": [
        "my_dict = {}\n",
        "\n",
        "# Add key-value pairs\n",
        "my_dict['parrot'] = 2\n",
        "my_dict['goat'] = 4\n",
        "my_dict['spider'] = 8\n",
        "my_dict['crab'] = 10\n",
        "\n",
        "# Print the dictionary\n",
        "print(my_dict)"
      ],
      "metadata": {
        "colab": {
          "base_uri": "https://localhost:8080/"
        },
        "id": "ZhCSTK9H_zZP",
        "outputId": "06f28f3e-8f95-4c01-9c38-bf8a7c86f302"
      },
      "execution_count": 5,
      "outputs": [
        {
          "output_type": "stream",
          "name": "stdout",
          "text": [
            "{'parrot': 2, 'goat': 4, 'spider': 8, 'crab': 10}\n"
          ]
        }
      ]
    },
    {
      "cell_type": "code",
      "source": [
        "my_dict = {\n",
        "    'parrot': 2,\n",
        "    'goat': 4,\n",
        "    'spider': 8,\n",
        "    'crab': 10\n",
        "}\n",
        "\n",
        "\n",
        "total_legs = 0\n",
        "\n",
        "for animal, legs in my_dict.items():\n",
        "    print(f\"{animal}: {legs} legs\")\n",
        "    total_legs += legs\n",
        "\n",
        "\n",
        "print(f\"Total legs: {total_legs}\")"
      ],
      "metadata": {
        "colab": {
          "base_uri": "https://localhost:8080/"
        },
        "id": "TStxbh1jAEKk",
        "outputId": "856f9c86-c425-48bf-ad4d-be57dab2dab0"
      },
      "execution_count": 6,
      "outputs": [
        {
          "output_type": "stream",
          "name": "stdout",
          "text": [
            "parrot: 2 legs\n",
            "goat: 4 legs\n",
            "spider: 8 legs\n",
            "crab: 10 legs\n",
            "Total legs: 24\n"
          ]
        }
      ]
    },
    {
      "cell_type": "code",
      "source": [
        "A = (3, 9, 4, [5, 6])\n",
        "\n",
        "# Change the value from 5 to 8 in the list\n",
        "A[3][0] = 8\n",
        "\n",
        "# Print the modified tuple\n",
        "print(A)\n"
      ],
      "metadata": {
        "colab": {
          "base_uri": "https://localhost:8080/"
        },
        "id": "CLNdELwzAIyT",
        "outputId": "58b6ebdc-f1b7-4419-e4cf-49fb5623043c"
      },
      "execution_count": 8,
      "outputs": [
        {
          "output_type": "stream",
          "name": "stdout",
          "text": [
            "(3, 9, 4, [8, 6])\n"
          ]
        }
      ]
    },
    {
      "cell_type": "code",
      "source": [
        "B = ('a', 'p', 'p', 'l', 'e')\n",
        "\n",
        "# Counting the occurrences of 'p' in the tuple\n",
        "count_p = B.count('p')\n",
        "\n",
        "# Printing the result\n",
        "print(count_p)"
      ],
      "metadata": {
        "colab": {
          "base_uri": "https://localhost:8080/"
        },
        "id": "6WbFxJGlBbcv",
        "outputId": "97793329-4ebe-481c-d253-657a261cd6b4"
      },
      "execution_count": 9,
      "outputs": [
        {
          "output_type": "stream",
          "name": "stdout",
          "text": [
            "2\n"
          ]
        }
      ]
    },
    {
      "cell_type": "code",
      "source": [
        "B = ('a', 'p', 'p', 'l', 'e')\n",
        "\n",
        "# Finding the index of 'l' in the tuple\n",
        "index_l = B.index('l')\n",
        "\n",
        "# Printing the result\n",
        "print(index_l)"
      ],
      "metadata": {
        "colab": {
          "base_uri": "https://localhost:8080/"
        },
        "id": "iEyPYGwhBh7r",
        "outputId": "e65d42ba-cbbd-408c-8bbb-d80ac15b91b0"
      },
      "execution_count": 10,
      "outputs": [
        {
          "output_type": "stream",
          "name": "stdout",
          "text": [
            "3\n"
          ]
        }
      ]
    },
    {
      "cell_type": "code",
      "source": [
        "def Compute(distance, time):\n",
        "    if time == 0:\n",
        "        return \"Time cannot be zero.\"\n",
        "    velocity = distance / time\n",
        "    return velocity\n"
      ],
      "metadata": {
        "id": "5EiuCbf_ByXe"
      },
      "execution_count": 14,
      "outputs": []
    },
    {
      "cell_type": "code",
      "source": [
        "# List of even numbers up to 12\n",
        "even_num = [2, 4, 6, 8, 10, 12]\n",
        "\n",
        "# Function to calculate the product of all elements in the list\n",
        "def mult(numbers):\n",
        "    product = 1\n",
        "    for num in numbers:\n",
        "        product *= num\n",
        "    return product\n",
        "\n",
        "# Calculate the product of all elements in even_num\n",
        "result = mult(even_num)\n",
        "print(result)\n"
      ],
      "metadata": {
        "colab": {
          "base_uri": "https://localhost:8080/"
        },
        "id": "dzjtYOLmCtIO",
        "outputId": "38cc2a4e-50d5-4f72-c649-b83cea2af137"
      },
      "execution_count": 13,
      "outputs": [
        {
          "output_type": "stream",
          "name": "stdout",
          "text": [
            "46080\n"
          ]
        }
      ]
    },
    {
      "cell_type": "code",
      "source": [
        "import pandas as pd\n",
        "data = {\n",
        "    'C1': [1, 2, 3, 5, 5],\n",
        "    'C2': [6, 7, 5, 4, 8],\n",
        "    'C3': [7, 9, 8, 6, 5],\n",
        "    'C4': [7, 5, 2, 8, 8]\n",
        "}\n",
        "\n",
        "df = pd.DataFrame(data)\n",
        "\n",
        "# Print the first two rows of the DataFrame\n",
        "print(df.head(2))\n"
      ],
      "metadata": {
        "colab": {
          "base_uri": "https://localhost:8080/"
        },
        "id": "3VT0eZKEDGc9",
        "outputId": "ec7bf041-9782-4213-8cfb-b4c6b20a4ed5"
      },
      "execution_count": 15,
      "outputs": [
        {
          "output_type": "stream",
          "name": "stdout",
          "text": [
            "   C1  C2  C3  C4\n",
            "0   1   6   7   7\n",
            "1   2   7   9   5\n"
          ]
        }
      ]
    },
    {
      "cell_type": "code",
      "source": [
        "import pandas as pd\n",
        "\n",
        "# Create the DataFrame\n",
        "data = {\n",
        "    'C1': [1, 2, 3, 5],\n",
        "    'C2': [6, 7, 5, 4],\n",
        "    'C3': [7, 9, 8, 6],\n",
        "    'C4': [7, 5, 2, 8]\n",
        "}\n",
        "\n",
        "df = pd.DataFrame(data)\n",
        "\n",
        "# Print the second column (C2)\n",
        "print(\"Second column (C2):\")\n",
        "print(df['C2'])"
      ],
      "metadata": {
        "colab": {
          "base_uri": "https://localhost:8080/"
        },
        "id": "k3v3v9VqDNoO",
        "outputId": "c8caf715-b831-4330-ad15-31c6d29e3c52"
      },
      "execution_count": 16,
      "outputs": [
        {
          "output_type": "stream",
          "name": "stdout",
          "text": [
            "Second column (C2):\n",
            "0    6\n",
            "1    7\n",
            "2    5\n",
            "3    4\n",
            "Name: C2, dtype: int64\n"
          ]
        }
      ]
    },
    {
      "cell_type": "code",
      "source": [
        "import pandas as pd\n",
        "\n",
        "# Create the DataFrame\n",
        "data = {\n",
        "    'C1': [1, 2, 3, 5, 5],\n",
        "    'C2': [6, 7, 5, 4, 8],\n",
        "    'C3': [7, 9, 8, 6, 5],\n",
        "    'C4': [7, 5, 2, 8, 8]\n",
        "}\n",
        "\n",
        "df = pd.DataFrame(data)\n",
        "\n",
        "# Print the original DataFrame\n",
        "print(\"Original DataFrame:\")\n",
        "print(df)\n",
        "\n",
        "# Rename the third column 'C3' to 'B3'\n",
        "df.rename(columns={'C3': 'B3'}, inplace=True)\n",
        "\n",
        "# Print the DataFrame with the updated column name\n",
        "print(\"\\nDataFrame with renamed column:\")\n",
        "print(df)"
      ],
      "metadata": {
        "colab": {
          "base_uri": "https://localhost:8080/"
        },
        "id": "JpymL9wNDiXr",
        "outputId": "f4f11fc2-7c20-438b-df6f-b185d41c4e48"
      },
      "execution_count": 17,
      "outputs": [
        {
          "output_type": "stream",
          "name": "stdout",
          "text": [
            "Original DataFrame:\n",
            "   C1  C2  C3  C4\n",
            "0   1   6   7   7\n",
            "1   2   7   9   5\n",
            "2   3   5   8   2\n",
            "3   5   4   6   8\n",
            "4   5   8   5   8\n",
            "\n",
            "DataFrame with renamed column:\n",
            "   C1  C2  B3  C4\n",
            "0   1   6   7   7\n",
            "1   2   7   9   5\n",
            "2   3   5   8   2\n",
            "3   5   4   6   8\n",
            "4   5   8   5   8\n"
          ]
        }
      ]
    },
    {
      "cell_type": "code",
      "source": [
        "import pandas as pd\n",
        "\n",
        "# Create the DataFrame\n",
        "data = {\n",
        "    'C1': [1, 2, 3, 5, 5],\n",
        "    'C2': [6, 7, 5, 4, 8],\n",
        "    'C3': [7, 9, 8, 6, 5],\n",
        "    'C4': [7, 5, 2, 8, 8]\n",
        "}\n",
        "\n",
        "df = pd.DataFrame(data)\n",
        "\n",
        "# Add the new column 'Sum' that contains the sum of each row\n",
        "df['Sum'] = df.sum(axis=1)\n",
        "\n",
        "print(df)"
      ],
      "metadata": {
        "colab": {
          "base_uri": "https://localhost:8080/"
        },
        "id": "AnTKsQqrDupy",
        "outputId": "c7950587-9538-4701-c7e4-0a9e2f3e933b"
      },
      "execution_count": 18,
      "outputs": [
        {
          "output_type": "stream",
          "name": "stdout",
          "text": [
            "   C1  C2  C3  C4  Sum\n",
            "0   1   6   7   7   21\n",
            "1   2   7   9   5   23\n",
            "2   3   5   8   2   18\n",
            "3   5   4   6   8   23\n",
            "4   5   8   5   8   26\n"
          ]
        }
      ]
    },
    {
      "cell_type": "code",
      "source": [
        "import pandas as pd\n",
        "\n",
        "# Define the data for the DataFrame\n",
        "data = {\n",
        "    'C1': [1, 2, 3, 5, 5],\n",
        "    'C2': [6, 7, 5, 4, 8],\n",
        "    'C3': [7, 9, 8, 6, 5],\n",
        "    'C4': [7, 5, 2, 8, 8]\n",
        "}\n",
        "\n",
        "# Create the DataFrame\n",
        "df = pd.DataFrame(data)\n",
        "\n",
        "# Print the complete DataFrame\n",
        "print(df)"
      ],
      "metadata": {
        "colab": {
          "base_uri": "https://localhost:8080/"
        },
        "id": "04CQFPcnD1eI",
        "outputId": "b770d4fb-2133-40b2-d2f5-61caee4ea9e1"
      },
      "execution_count": 19,
      "outputs": [
        {
          "output_type": "stream",
          "name": "stdout",
          "text": [
            "   C1  C2  C3  C4\n",
            "0   1   6   7   7\n",
            "1   2   7   9   5\n",
            "2   3   5   8   2\n",
            "3   5   4   6   8\n",
            "4   5   8   5   8\n"
          ]
        }
      ]
    },
    {
      "cell_type": "code",
      "source": [
        "import pandas as pd\n",
        "\n",
        "# Create the DataFrame\n",
        "data = {\n",
        "    'C1': [1, 2, 3, 5, 5],\n",
        "    'C2': [6, 7, 5, 4, 8],\n",
        "    'C3': [7, 9, 8, 6, 5],\n",
        "    'C4': [7, 5, 2, 8, 8]\n",
        "}\n",
        "\n",
        "df = pd.DataFrame(data)\n",
        "\n",
        "# Print the bottom 2 records of the DataFrame\n",
        "print(df.tail(2))\n"
      ],
      "metadata": {
        "colab": {
          "base_uri": "https://localhost:8080/"
        },
        "id": "VeKvnsseD-LJ",
        "outputId": "dd093e0b-3fc9-4690-a4d3-8631a86c383f"
      },
      "execution_count": 20,
      "outputs": [
        {
          "output_type": "stream",
          "name": "stdout",
          "text": [
            "   C1  C2  C3  C4\n",
            "3   5   4   6   8\n",
            "4   5   8   5   8\n"
          ]
        }
      ]
    },
    {
      "cell_type": "code",
      "source": [
        "import pandas as pd\n",
        "\n",
        "# Define the data for the DataFrame\n",
        "data = {\n",
        "    'C1': [1, 2, 3, 5, 5],\n",
        "    'C2': [6, 7, 5, 4, 8],\n",
        "    'C3': [7, 9, 8, 6, 5],\n",
        "    'C4': [7, 5, 2, 8, 8]\n",
        "}\n",
        "\n",
        "# Create the DataFrame\n",
        "df = pd.DataFrame(data)\n",
        "\n",
        "# Print the DataFrame\n",
        "print(\"DataFrame:\")\n",
        "print(df)"
      ],
      "metadata": {
        "colab": {
          "base_uri": "https://localhost:8080/"
        },
        "id": "ujCaGuJVEElp",
        "outputId": "4b01725f-d95c-4582-d906-ee4c06c91ad2"
      },
      "execution_count": 21,
      "outputs": [
        {
          "output_type": "stream",
          "name": "stdout",
          "text": [
            "DataFrame:\n",
            "   C1  C2  C3  C4\n",
            "0   1   6   7   7\n",
            "1   2   7   9   5\n",
            "2   3   5   8   2\n",
            "3   5   4   6   8\n",
            "4   5   8   5   8\n"
          ]
        }
      ]
    },
    {
      "cell_type": "code",
      "source": [
        "print(\"\\nShape of the DataFrame (rows x columns):\")\n",
        "print(df.shape)\n",
        "import pandas as pd\n",
        "\n",
        "# Create the DataFrame\n",
        "data = {\n",
        "    'C1': [1, 2, 3, 5, 5],\n",
        "    'C2': [6, 7, 5, 4, 8],\n",
        "    'C3': [7, 9, 8, 6, 5],\n",
        "    'C4': [7, 5, 2, 8, 8]\n",
        "}\n",
        "\n",
        "df = pd.DataFrame(data)\n",
        "\n",
        "# Check for missing values\n",
        "null_values = df.isnull()\n",
        "print(\"Null Values in DataFrame:\")\n",
        "print(null_values)"
      ],
      "metadata": {
        "colab": {
          "base_uri": "https://localhost:8080/"
        },
        "id": "F1GhNx0YEL0j",
        "outputId": "25311c26-aaf9-4f7e-9b12-301accb2f692"
      },
      "execution_count": 22,
      "outputs": [
        {
          "output_type": "stream",
          "name": "stdout",
          "text": [
            "\n",
            "Shape of the DataFrame (rows x columns):\n",
            "(5, 4)\n",
            "Null Values in DataFrame:\n",
            "      C1     C2     C3     C4\n",
            "0  False  False  False  False\n",
            "1  False  False  False  False\n",
            "2  False  False  False  False\n",
            "3  False  False  False  False\n",
            "4  False  False  False  False\n"
          ]
        }
      ]
    },
    {
      "cell_type": "code",
      "source": [
        "# Drop rows with missing values\n",
        "df_cleaned = df.dropna()\n",
        "\n",
        "print(\"\\nDataFrame after dropna():\")\n",
        "print(df_cleaned)"
      ],
      "metadata": {
        "colab": {
          "base_uri": "https://localhost:8080/"
        },
        "id": "ot4wXxV6EbOH",
        "outputId": "00da42da-fea3-4ead-8b81-8557545883eb"
      },
      "execution_count": 23,
      "outputs": [
        {
          "output_type": "stream",
          "name": "stdout",
          "text": [
            "\n",
            "DataFrame after dropna():\n",
            "   C1  C2  C3  C4\n",
            "0   1   6   7   7\n",
            "1   2   7   9   5\n",
            "2   3   5   8   2\n",
            "3   5   4   6   8\n",
            "4   5   8   5   8\n"
          ]
        }
      ]
    },
    {
      "cell_type": "code",
      "source": [
        "import numpy as np\n",
        "\n",
        "# Define the matrix A\n",
        "A = [\n",
        "    [1, 2, 3, 4],\n",
        "    [5, 6, 7, 8],\n",
        "    [9, 10, 11, 12]\n",
        "]\n",
        "\n",
        "# Convert matrix A into a NumPy array\n",
        "A_np = np.array(A)\n",
        "\n",
        "# Define the array z\n",
        "z = np.array([1, 0, 1])\n",
        "\n",
        "# Display the NumPy array A\n",
        "print(A_np)\n"
      ],
      "metadata": {
        "colab": {
          "base_uri": "https://localhost:8080/"
        },
        "id": "EjnpmB3KE1NX",
        "outputId": "2fd50c92-3ab6-4efe-97a9-1b73e9b3f12b"
      },
      "execution_count": 24,
      "outputs": [
        {
          "output_type": "stream",
          "name": "stdout",
          "text": [
            "[[ 1  2  3  4]\n",
            " [ 5  6  7  8]\n",
            " [ 9 10 11 12]]\n"
          ]
        }
      ]
    },
    {
      "cell_type": "code",
      "source": [
        "import numpy as np\n",
        "\n",
        "# Define the array A\n",
        "A = np.array([\n",
        "    [1, 2, 3, 4],\n",
        "    [5, 6, 7, 8],\n",
        "    [9, 10, 11, 12]\n",
        "])\n",
        "\n",
        "# Use slicing to extract the first 2 rows and columns 1 and 2\n",
        "b = A[:2, 1:3]  # Rows 0 and 1, Columns 1 and 2\n",
        "\n",
        "print(b)\n"
      ],
      "metadata": {
        "colab": {
          "base_uri": "https://localhost:8080/"
        },
        "id": "KQD253mQGAKQ",
        "outputId": "39b054f6-9b40-43e7-bb3d-5933e3128912"
      },
      "execution_count": 25,
      "outputs": [
        {
          "output_type": "stream",
          "name": "stdout",
          "text": [
            "[[2 3]\n",
            " [6 7]]\n"
          ]
        }
      ]
    },
    {
      "cell_type": "code",
      "source": [
        "import numpy as np\n",
        "\n",
        "# Define matrix A\n",
        "A = np.array([\n",
        "    [1, 2, 3, 4],\n",
        "    [5, 6, 7, 8],\n",
        "    [9, 10, 11, 12]\n",
        "])\n",
        "\n",
        "# Create an empty matrix C with the same shape as A\n",
        "C = np.empty_like(A)\n",
        "\n",
        "print(C)\n"
      ],
      "metadata": {
        "colab": {
          "base_uri": "https://localhost:8080/"
        },
        "id": "2Vjdte1XGlsY",
        "outputId": "a2999766-3499-4eac-fced-72bf68b03d78"
      },
      "execution_count": 26,
      "outputs": [
        {
          "output_type": "stream",
          "name": "stdout",
          "text": [
            "[[95498278709051              0              0              0]\n",
            " [             0              0              0              0]\n",
            " [             0              0              0              0]]\n"
          ]
        }
      ]
    },
    {
      "cell_type": "code",
      "source": [
        "import numpy as np\n",
        "\n",
        "# Define the matrix A\n",
        "A = np.array([\n",
        "    [1, 2, 3, 4],\n",
        "    [5, 6, 7, 8],\n",
        "    [9, 10, 11, 12]\n",
        "])\n",
        "\n",
        "# Define the vector z\n",
        "z = np.array([1, 0, 1])\n",
        "\n",
        "# Initialize the matrix C with the same shape as A\n",
        "C = np.empty_like(A)\n",
        "\n",
        "# Add z to each column of A using an explicit loop\n",
        "for i in range(A.shape[1]):\n",
        "    C[:, i] = A[:, i] + z\n",
        "\n",
        "# Print the resulting matrix C\n",
        "print(\"Matrix C:\")\n",
        "print(C)\n",
        "\n",
        "# Create the arrays X, Y, and v\n",
        "X = np.array([[1, 2], [3, 4]])\n",
        "Y = np.array([[5, 6], [7, 8]])\n",
        "v = np.array([9, 10])\n",
        "\n",
        "# Print X, Y, and v\n",
        "print(\"\\nArray X:\")\n",
        "print(X)\n",
        "\n",
        "print(\"\\nArray Y:\")\n",
        "print(Y)\n",
        "\n",
        "print(\"\\nVector v:\")\n",
        "print(v)\n"
      ],
      "metadata": {
        "colab": {
          "base_uri": "https://localhost:8080/"
        },
        "id": "HuYiFhmBG2x1",
        "outputId": "ca379dbb-49e5-4eb8-e7b6-36802644fc9a"
      },
      "execution_count": 27,
      "outputs": [
        {
          "output_type": "stream",
          "name": "stdout",
          "text": [
            "Matrix C:\n",
            "[[ 2  3  4  5]\n",
            " [ 5  6  7  8]\n",
            " [10 11 12 13]]\n",
            "\n",
            "Array X:\n",
            "[[1 2]\n",
            " [3 4]]\n",
            "\n",
            "Array Y:\n",
            "[[5 6]\n",
            " [7 8]]\n",
            "\n",
            "Vector v:\n",
            "[ 9 10]\n"
          ]
        }
      ]
    },
    {
      "cell_type": "code",
      "source": [
        "import numpy as np\n",
        "\n",
        "# Define matrix A\n",
        "A = np.array([[1, 2, 3, 4],\n",
        "              [5, 6, 7, 8],\n",
        "              [9, 10, 11, 12]])\n",
        "\n",
        "# Define vector z\n",
        "z = np.array([1, 0, 1])\n",
        "\n",
        "# Broadcasting to add z to each row of A\n",
        "X = A + z[:, np.newaxis]  # Add z to each row of A\n",
        "\n",
        "# Assuming Y is some other matrix of the same shape as X, let's create Y for demonstration\n",
        "Y = np.array([[1, 1, 1, 1],\n",
        "              [1, 1, 1, 1],\n",
        "              [1, 1, 1, 1]])\n",
        "\n",
        "# Add matrices X and Y\n",
        "result = X + Y\n",
        "\n",
        "# Print the result\n",
        "print(result)\n"
      ],
      "metadata": {
        "colab": {
          "base_uri": "https://localhost:8080/"
        },
        "id": "9SS4Tx_9HFBT",
        "outputId": "d9708c87-d706-42a0-9393-0f064b037387"
      },
      "execution_count": 28,
      "outputs": [
        {
          "output_type": "stream",
          "name": "stdout",
          "text": [
            "[[ 3  4  5  6]\n",
            " [ 6  7  8  9]\n",
            " [11 12 13 14]]\n"
          ]
        }
      ]
    },
    {
      "cell_type": "code",
      "source": [
        "import numpy as np\n",
        "\n",
        "# Define matrix A and vector z\n",
        "A = np.array([[1, 2, 3, 4],\n",
        "              [5, 6, 7, 8],\n",
        "              [9, 10, 11, 12]])\n",
        "z = np.array([1, 0, 1, 0])  # Note: `z` should be of the correct size for matrix multiplication\n",
        "\n",
        "# Perform matrix multiplication\n",
        "result = np.dot(A, z)\n",
        "\n",
        "# Print the result\n",
        "print(result)\n"
      ],
      "metadata": {
        "colab": {
          "base_uri": "https://localhost:8080/"
        },
        "id": "co8J-B1SHTFU",
        "outputId": "eea69802-0c55-4640-f70a-348cc153a58d"
      },
      "execution_count": 29,
      "outputs": [
        {
          "output_type": "stream",
          "name": "stdout",
          "text": [
            "[ 4 12 20]\n"
          ]
        }
      ]
    },
    {
      "cell_type": "code",
      "source": [
        "import numpy as np\n",
        "\n",
        "# Define matrix A and vector z\n",
        "A = np.array([[1, 2, 3, 4],\n",
        "              [5, 6, 7, 8],\n",
        "              [9, 10, 11, 12]])\n",
        "z = np.array([1, 0, 1, 1])\n",
        "\n",
        "# Element-wise multiplication of A and z\n",
        "Y = A * z\n",
        "\n",
        "# Compute element-wise square root of matrix Y\n",
        "sqrt_Y = np.sqrt(Y)\n",
        "\n",
        "# Print the result\n",
        "print(sqrt_Y)\n"
      ],
      "metadata": {
        "colab": {
          "base_uri": "https://localhost:8080/"
        },
        "id": "NVTZEb95HcIO",
        "outputId": "b9145575-3c84-4e0b-acd9-517e0c8e748a"
      },
      "execution_count": 30,
      "outputs": [
        {
          "output_type": "stream",
          "name": "stdout",
          "text": [
            "[[1.         0.         1.73205081 2.        ]\n",
            " [2.23606798 0.         2.64575131 2.82842712]\n",
            " [3.         0.         3.31662479 3.46410162]]\n"
          ]
        }
      ]
    },
    {
      "cell_type": "code",
      "source": [
        "\n",
        "import numpy as np\n",
        "\n",
        "# Define the 2D array A\n",
        "A = np.array([[1, 2, 3, 4],\n",
        "              [5, 6, 7, 8],\n",
        "              [9, 10, 11, 12]])\n",
        "\n",
        "# Compute the sum of each column\n",
        "column_sums = np.sum(A, axis=0)\n",
        "\n",
        "# Print the result\n",
        "print(column_sums)\n",
        "\n"
      ],
      "metadata": {
        "colab": {
          "base_uri": "https://localhost:8080/"
        },
        "id": "gJm_R1BzHlGp",
        "outputId": "424ade5b-0840-40d6-dfe3-164f60c80dee"
      },
      "execution_count": 33,
      "outputs": [
        {
          "output_type": "stream",
          "name": "stdout",
          "text": [
            "[15 18 21 24]\n"
          ]
        }
      ]
    }
  ]
}